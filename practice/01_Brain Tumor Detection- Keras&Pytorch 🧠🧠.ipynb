{
 "cells": [
  {
   "cell_type": "markdown",
   "metadata": {},
   "source": [
    "# Brain Tumor Detection- Keras/Pytorch 🧠🧠\n",
    "* https://www.kaggle.com/code/fahadmehfoooz/brain-tumor-detection-keras-pytorch\n",
    "---\n",
    "\n",
    "### data\n",
    "* \n",
    "* "
   ]
  },
  {
   "cell_type": "markdown",
   "metadata": {},
   "source": [
    "## 1. Importing Modules"
   ]
  },
  {
   "cell_type": "code",
   "execution_count": 1,
   "metadata": {},
   "outputs": [],
   "source": [
    "import os, glob, pathlib # 파일 위치 찾기, 입출력 등\n",
    "from tqdm import tqdm # 진행 상황 표시 모듈 -> 반복문에서 현재 상태를 시각화, 진행률과 소요 시간 등 표시\n",
    "import warnings\n",
    "warnings.filterwarnings('ignore')\n",
    "\n",
    "import numpy as np\n",
    "import pandas as pd\n",
    "\n",
    "import seaborn as sns\n",
    "import matplotlib.pyplot as plt\n",
    "# %matplotlib inline"
   ]
  },
  {
   "cell_type": "code",
   "execution_count": 2,
   "metadata": {},
   "outputs": [],
   "source": [
    "import cv2\n",
    "from skimage.io import imread\n",
    "from sklearn.model_selection import train_test_split\n",
    "from sklearn.metrics import accuracy_score"
   ]
  },
  {
   "cell_type": "code",
   "execution_count": 3,
   "metadata": {},
   "outputs": [],
   "source": [
    "import torch\n",
    "from torch.utils.data import DataLoader\n",
    "import torch.nn as nn\n",
    "from torch.nn import Linear, ReLU, CrossEntropyLoss, Sequential, Conv2d, MaxPool2d, Module, Softmax, BatchNorm2d, Dropout\n",
    "from torch.optim import Adam, SGD\n",
    "from torch.autograd import Variable\n",
    "\n",
    "import torchvision\n",
    "from torchvision.transforms import transforms"
   ]
  },
  {
   "cell_type": "code",
   "execution_count": 5,
   "metadata": {},
   "outputs": [],
   "source": [
    "import tensorflow as tf\n",
    "from tensorflow import keras\n",
    "from tensorflow.keras.preprocessing.image import ImageDataGenerator\n",
    "from tensorflow.keras.models import Sequential\n",
    "from tensorflow.keras.layers import Dense,Conv2D\n",
    "from tensorflow.keras.optimizers import Adam\n",
    "from kerastuner import RandomSearch"
   ]
  },
  {
   "cell_type": "markdown",
   "metadata": {},
   "source": [
    "## 2. Data"
   ]
  },
  {
   "cell_type": "markdown",
   "metadata": {},
   "source": [
    "### 1) Loading"
   ]
  },
  {
   "cell_type": "code",
   "execution_count": 9,
   "metadata": {},
   "outputs": [
    {
     "name": "stdout",
     "output_type": "stream",
     "text": [
      "Dataset URL: https://www.kaggle.com/datasets/sartajbhuvaji/brain-tumor-classification-mri\n",
      "License(s): MIT\n",
      "Downloading brain-tumor-classification-mri.zip to f:\\교육\\구름딥다이브\\최종프로젝트\\ESC\\ESC\\practice\n",
      "\n"
     ]
    },
    {
     "name": "stderr",
     "output_type": "stream",
     "text": [
      "\n",
      "  0%|          | 0.00/86.8M [00:00<?, ?B/s]\n",
      "  1%|          | 1.00M/86.8M [00:00<00:28, 3.19MB/s]\n",
      "  2%|▏         | 2.00M/86.8M [00:00<00:17, 4.99MB/s]\n",
      "  5%|▍         | 4.00M/86.8M [00:00<00:11, 7.33MB/s]\n",
      "  6%|▌         | 5.00M/86.8M [00:00<00:10, 8.03MB/s]\n",
      "  7%|▋         | 6.00M/86.8M [00:00<00:09, 8.54MB/s]\n",
      "  8%|▊         | 7.00M/86.8M [00:00<00:09, 8.89MB/s]\n",
      "  9%|▉         | 8.00M/86.8M [00:01<00:09, 9.17MB/s]\n",
      " 10%|█         | 9.00M/86.8M [00:01<00:08, 9.41MB/s]\n",
      " 12%|█▏        | 10.0M/86.8M [00:01<00:08, 9.50MB/s]\n",
      " 13%|█▎        | 11.0M/86.8M [00:01<00:08, 9.66MB/s]\n",
      " 14%|█▍        | 12.0M/86.8M [00:01<00:08, 9.73MB/s]\n",
      " 15%|█▍        | 13.0M/86.8M [00:01<00:07, 9.75MB/s]\n",
      " 16%|█▌        | 14.0M/86.8M [00:01<00:07, 9.79MB/s]\n",
      " 17%|█▋        | 15.0M/86.8M [00:01<00:07, 9.82MB/s]\n",
      " 18%|█▊        | 16.0M/86.8M [00:01<00:07, 9.68MB/s]\n",
      " 21%|██        | 18.0M/86.8M [00:02<00:07, 9.89MB/s]\n",
      " 22%|██▏       | 19.0M/86.8M [00:02<00:07, 9.93MB/s]\n",
      " 23%|██▎       | 20.0M/86.8M [00:02<00:07, 9.90MB/s]\n",
      " 24%|██▍       | 21.0M/86.8M [00:02<00:06, 9.90MB/s]\n",
      " 25%|██▌       | 22.0M/86.8M [00:02<00:06, 9.91MB/s]\n",
      " 27%|██▋       | 23.0M/86.8M [00:02<00:06, 9.89MB/s]\n",
      " 28%|██▊       | 24.0M/86.8M [00:02<00:06, 9.87MB/s]\n",
      " 29%|██▉       | 25.0M/86.8M [00:02<00:06, 9.92MB/s]\n",
      " 30%|██▉       | 26.0M/86.8M [00:02<00:06, 9.86MB/s]\n",
      " 31%|███       | 27.0M/86.8M [00:03<00:06, 9.89MB/s]\n",
      " 32%|███▏      | 28.0M/86.8M [00:03<00:06, 9.90MB/s]\n",
      " 33%|███▎      | 29.0M/86.8M [00:03<00:06, 9.94MB/s]\n",
      " 35%|███▍      | 30.0M/86.8M [00:03<00:06, 9.88MB/s]\n",
      " 36%|███▌      | 31.0M/86.8M [00:03<00:05, 9.91MB/s]\n",
      " 37%|███▋      | 32.0M/86.8M [00:03<00:06, 9.38MB/s]\n",
      " 39%|███▉      | 34.0M/86.8M [00:03<00:05, 9.79MB/s]\n",
      " 40%|████      | 35.0M/86.8M [00:03<00:05, 9.84MB/s]\n",
      " 41%|████▏     | 36.0M/86.8M [00:04<00:05, 9.80MB/s]\n",
      " 43%|████▎     | 37.0M/86.8M [00:04<00:05, 9.85MB/s]\n",
      " 44%|████▍     | 38.0M/86.8M [00:04<00:05, 9.87MB/s]\n",
      " 45%|████▍     | 39.0M/86.8M [00:04<00:05, 9.87MB/s]\n",
      " 46%|████▌     | 40.0M/86.8M [00:04<00:04, 9.88MB/s]\n",
      " 47%|████▋     | 41.0M/86.8M [00:04<00:04, 9.91MB/s]\n",
      " 48%|████▊     | 42.0M/86.8M [00:04<00:04, 9.90MB/s]\n",
      " 50%|████▉     | 43.0M/86.8M [00:04<00:04, 9.87MB/s]\n",
      " 51%|█████     | 44.0M/86.8M [00:04<00:04, 9.88MB/s]\n",
      " 52%|█████▏    | 45.0M/86.8M [00:05<00:04, 9.91MB/s]\n",
      " 53%|█████▎    | 46.0M/86.8M [00:05<00:04, 9.85MB/s]\n",
      " 54%|█████▍    | 47.0M/86.8M [00:05<00:04, 9.87MB/s]\n",
      " 55%|█████▌    | 48.0M/86.8M [00:05<00:04, 9.81MB/s]\n",
      " 56%|█████▋    | 49.0M/86.8M [00:05<00:04, 9.88MB/s]\n",
      " 58%|█████▊    | 50.0M/86.8M [00:05<00:05, 7.58MB/s]\n",
      " 59%|█████▉    | 51.0M/86.8M [00:05<00:04, 8.02MB/s]\n",
      " 60%|█████▉    | 52.0M/86.8M [00:05<00:04, 8.48MB/s]\n",
      " 61%|██████    | 53.0M/86.8M [00:05<00:03, 8.86MB/s]\n",
      " 62%|██████▏   | 54.0M/86.8M [00:06<00:03, 9.17MB/s]\n",
      " 63%|██████▎   | 55.0M/86.8M [00:06<00:03, 9.35MB/s]\n",
      " 65%|██████▍   | 56.0M/86.8M [00:06<00:03, 9.52MB/s]\n",
      " 66%|██████▌   | 57.0M/86.8M [00:06<00:03, 9.64MB/s]\n",
      " 67%|██████▋   | 58.0M/86.8M [00:06<00:03, 9.66MB/s]\n",
      " 68%|██████▊   | 59.0M/86.8M [00:06<00:02, 9.77MB/s]\n",
      " 69%|██████▉   | 60.0M/86.8M [00:06<00:02, 9.82MB/s]\n",
      " 70%|███████   | 61.0M/86.8M [00:06<00:02, 9.81MB/s]\n",
      " 71%|███████▏  | 62.0M/86.8M [00:06<00:02, 9.84MB/s]\n",
      " 73%|███████▎  | 63.0M/86.8M [00:07<00:02, 9.85MB/s]\n",
      " 74%|███████▎  | 64.0M/86.8M [00:07<00:02, 9.39MB/s]\n",
      " 76%|███████▌  | 66.0M/86.8M [00:07<00:02, 9.80MB/s]\n",
      " 77%|███████▋  | 67.0M/86.8M [00:07<00:02, 8.72MB/s]\n",
      " 80%|███████▉  | 69.0M/86.8M [00:07<00:01, 9.34MB/s]\n",
      " 81%|████████  | 70.0M/86.8M [00:07<00:01, 9.45MB/s]\n",
      " 82%|████████▏ | 71.0M/86.8M [00:07<00:01, 9.53MB/s]\n",
      " 83%|████████▎ | 72.0M/86.8M [00:08<00:01, 9.64MB/s]\n",
      " 84%|████████▍ | 73.0M/86.8M [00:08<00:01, 9.71MB/s]\n",
      " 85%|████████▌ | 74.0M/86.8M [00:08<00:01, 9.73MB/s]\n",
      " 86%|████████▋ | 75.0M/86.8M [00:08<00:01, 9.79MB/s]\n",
      " 88%|████████▊ | 76.0M/86.8M [00:08<00:02, 4.50MB/s]\n",
      " 89%|████████▊ | 77.0M/86.8M [00:09<00:04, 2.36MB/s]\n",
      " 90%|████████▉ | 78.0M/86.8M [00:09<00:03, 3.05MB/s]\n",
      " 91%|█████████ | 79.0M/86.8M [00:10<00:02, 3.83MB/s]\n",
      " 92%|█████████▏| 80.0M/86.8M [00:10<00:01, 4.23MB/s]\n",
      " 94%|█████████▍| 82.0M/86.8M [00:10<00:00, 5.81MB/s]\n",
      " 96%|█████████▌| 83.0M/86.8M [00:10<00:00, 6.48MB/s]\n",
      " 97%|█████████▋| 84.0M/86.8M [00:10<00:00, 7.03MB/s]\n",
      " 98%|█████████▊| 85.0M/86.8M [00:10<00:00, 6.28MB/s]\n",
      " 99%|█████████▉| 86.0M/86.8M [00:11<00:00, 7.00MB/s]\n",
      "100%|██████████| 86.8M/86.8M [00:11<00:00, 8.21MB/s]\n"
     ]
    }
   ],
   "source": [
    "# kaggle api\n",
    "!kaggle datasets download sartajbhuvaji/brain-tumor-classification-mri"
   ]
  },
  {
   "cell_type": "code",
   "execution_count": 10,
   "metadata": {},
   "outputs": [
    {
     "name": "stdout",
     "output_type": "stream",
     "text": [
      "Warning: Looks like you're using an outdated `kagglehub` version, please consider updating (latest version: 0.3.7)\n",
      "Downloading from https://www.kaggle.com/api/v1/datasets/download/sartajbhuvaji/brain-tumor-classification-mri?dataset_version_number=2...\n"
     ]
    },
    {
     "name": "stderr",
     "output_type": "stream",
     "text": [
      "100%|██████████| 86.8M/86.8M [00:09<00:00, 9.55MB/s]"
     ]
    },
    {
     "name": "stdout",
     "output_type": "stream",
     "text": [
      "Extracting model files...\n"
     ]
    },
    {
     "name": "stderr",
     "output_type": "stream",
     "text": [
      "\n"
     ]
    },
    {
     "name": "stdout",
     "output_type": "stream",
     "text": [
      "Path to dataset files: C:\\Users\\wjddl\\.cache\\kagglehub\\datasets\\sartajbhuvaji\\brain-tumor-classification-mri\\versions\\2\n"
     ]
    }
   ],
   "source": [
    "# import kagglehub\n",
    "\n",
    "# # Download latest version\n",
    "# path = kagglehub.dataset_download(\"sartajbhuvaji/brain-tumor-classification-mri\")\n",
    "\n",
    "# print(\"Path to dataset files:\", path)"
   ]
  },
  {
   "cell_type": "code",
   "execution_count": 11,
   "metadata": {},
   "outputs": [],
   "source": [
    "PATH_TRAIN = '/data/brain-tumor-classification-mri/Training'\n",
    "PATH_TEST = '/data/brain-tumor-classification-mri/Testing'"
   ]
  },
  {
   "cell_type": "code",
   "execution_count": 12,
   "metadata": {},
   "outputs": [
    {
     "ename": "FileNotFoundError",
     "evalue": "[WinError 3] 지정된 경로를 찾을 수 없습니다: '/data/brain-tumor-classification-mri/Training'",
     "output_type": "error",
     "traceback": [
      "\u001b[1;31m---------------------------------------------------------------------------\u001b[0m",
      "\u001b[1;31mFileNotFoundError\u001b[0m                         Traceback (most recent call last)",
      "Cell \u001b[1;32mIn[12], line 9\u001b[0m\n\u001b[0;32m      5\u001b[0m test_labels \u001b[38;5;241m=\u001b[39m []\n\u001b[0;32m      7\u001b[0m img_size\u001b[38;5;241m=\u001b[39m \u001b[38;5;241m300\u001b[39m\n\u001b[1;32m----> 9\u001b[0m \u001b[38;5;28;01mfor\u001b[39;00m i \u001b[38;5;129;01min\u001b[39;00m \u001b[43mos\u001b[49m\u001b[38;5;241;43m.\u001b[39;49m\u001b[43mlistdir\u001b[49m\u001b[43m(\u001b[49m\u001b[43mPATH_TRAIN\u001b[49m\u001b[43m)\u001b[49m:\n\u001b[0;32m     10\u001b[0m     \u001b[38;5;28;01mfor\u001b[39;00m j \u001b[38;5;129;01min\u001b[39;00m os\u001b[38;5;241m.\u001b[39mlistdir(PATH_TRAIN\u001b[38;5;241m+\u001b[39mi):\n\u001b[0;32m     11\u001b[0m         train_img\u001b[38;5;241m.\u001b[39mappend (cv2\u001b[38;5;241m.\u001b[39mresize(cv2\u001b[38;5;241m.\u001b[39mimread(PATH_TRAIN\u001b[38;5;241m+\u001b[39mi\u001b[38;5;241m+\u001b[39m\u001b[38;5;124m'\u001b[39m\u001b[38;5;124m/\u001b[39m\u001b[38;5;124m'\u001b[39m\u001b[38;5;241m+\u001b[39mj), (img_size,img_size))) \n",
      "\u001b[1;31mFileNotFoundError\u001b[0m: [WinError 3] 지정된 경로를 찾을 수 없습니다: '/data/brain-tumor-classification-mri/Training'"
     ]
    }
   ],
   "source": [
    "train_img = []\n",
    "train_labels = []\n",
    "\n",
    "test_img = []\n",
    "test_labels = []\n",
    "\n",
    "img_size= 300\n",
    "\n",
    "for i in os.listdir(PATH_TRAIN):\n",
    "    for j in os.listdir(PATH_TRAIN+i):\n",
    "        train_img.append (cv2.resize(cv2.imread(PATH_TRAIN+i+'/'+j), (img_size,img_size))) \n",
    "        train_labels.append(i)\n",
    "        \n",
    "for i in os.listdir(PATH_TEST):\n",
    "    for j in os.listdir(PATH_TEST+i):\n",
    "        test_img.append (cv2.resize(cv2.imread(PATH_TEST+i+'/'+j), (img_size,img_size))) \n",
    "        test_labels.append(i)\n",
    "        \n",
    "train_img = (np.array(train_img))\n",
    "test_img = (np.array(test_img))\n",
    "\n",
    "\n",
    "train_labels_encoded = [0 if category == 'no_tumor' else(1 if category == 'glioma_tumor' else(2 if category=='meningioma_tumor' else 3)) for category in list(train_labels)]\n",
    "test_labels_encoded = [0 if category == 'no_tumor' else(1 if category == 'glioma_tumor' else(2 if category=='meningioma_tumor' else 3)) for category in list(test_labels)]"
   ]
  },
  {
   "cell_type": "code",
   "execution_count": null,
   "metadata": {},
   "outputs": [],
   "source": []
  },
  {
   "cell_type": "code",
   "execution_count": null,
   "metadata": {},
   "outputs": [],
   "source": []
  },
  {
   "cell_type": "markdown",
   "metadata": {},
   "source": [
    "## 3-1. Tensorflow(Keras)"
   ]
  },
  {
   "cell_type": "code",
   "execution_count": null,
   "metadata": {},
   "outputs": [],
   "source": []
  }
 ],
 "metadata": {
  "kernelspec": {
   "display_name": "esc",
   "language": "python",
   "name": "python3"
  },
  "language_info": {
   "codemirror_mode": {
    "name": "ipython",
    "version": 3
   },
   "file_extension": ".py",
   "mimetype": "text/x-python",
   "name": "python",
   "nbconvert_exporter": "python",
   "pygments_lexer": "ipython3",
   "version": "3.10.13"
  }
 },
 "nbformat": 4,
 "nbformat_minor": 2
}
