{
 "cells": [
  {
   "cell_type": "markdown",
   "metadata": {},
   "source": [
    "### 1) 25-02-04\n",
    "\n",
    "* 기본 머신러닝 패키지 > cuda&cudnn > pytorch > tensorflow 설치\n",
    "* python 버전 변경 후 패키지 재설치"
   ]
  },
  {
   "cell_type": "code",
   "execution_count": 3,
   "metadata": {},
   "outputs": [
    {
     "name": "stdout",
     "output_type": "stream",
     "text": [
      "python: 3.10.13\n",
      "numpy: 1.26.4\n",
      "pandas: 2.2.3\n",
      "seaborn: 0.13.2\n",
      "matplotlib: 3.10.0\n",
      "sklearn: 1.6.1\n",
      "torch: 2.6.0+cu126\n",
      "torchaudio: 2.6.0+cu126\n",
      "torchvision: 0.21.0+cu126\n",
      "tensorflow: 2.10.0\n",
      "cv2: 4.11.0\n",
      "skimage: 0.25.1\n",
      "tqdm: 4.67.1\n",
      "CUDA Available: True\n",
      "CUDA Version: 12.6\n",
      "cuDNN Version: 90501\n",
      "TensorFlow GPU Available: False\n"
     ]
    }
   ],
   "source": [
    "import importlib\n",
    "import torch\n",
    "import tensorflow as tf\n",
    "import cv2\n",
    "\n",
    "# 확인할 패키지 목록\n",
    "packages = [\n",
    "    \"python\", \"numpy\", \"pandas\", \"seaborn\", \"matplotlib\",\n",
    "    \"sklearn\", \"torch\", \"torchaudio\", \"torchvision\",\n",
    "    \"tensorflow\", \"cv2\", \"skimage\", \"tqdm\"\n",
    "]\n",
    "\n",
    "# 패키지 버전 확인 함수\n",
    "def get_version(pkg):\n",
    "    if pkg == \"python\":\n",
    "        import sys\n",
    "        return sys.version.split()[0]\n",
    "    try:\n",
    "        module = importlib.import_module(pkg)\n",
    "        return getattr(module, '__version__', \"Unknown Version\")\n",
    "    except ImportError:\n",
    "        return \"Not Installed\"\n",
    "\n",
    "# 패키지 버전 출력\n",
    "versions = {pkg: get_version(pkg) for pkg in packages}\n",
    "\n",
    "# CUDA & cuDNN 버전 확인\n",
    "versions[\"CUDA Available\"] = torch.cuda.is_available()\n",
    "versions[\"CUDA Version\"] = torch.version.cuda if torch.cuda.is_available() else \"Not Available\"\n",
    "versions[\"cuDNN Version\"] = torch.backends.cudnn.version() if torch.cuda.is_available() else \"Not Available\"\n",
    "versions[\"TensorFlow GPU Available\"] = len(tf.config.list_physical_devices('GPU')) > 0\n",
    "\n",
    "# 결과 출력\n",
    "for pkg, ver in versions.items():\n",
    "    print(f\"{pkg}: {ver}\")\n"
   ]
  }
 ],
 "metadata": {
  "kernelspec": {
   "display_name": "esc",
   "language": "python",
   "name": "python3"
  },
  "language_info": {
   "codemirror_mode": {
    "name": "ipython",
    "version": 3
   },
   "file_extension": ".py",
   "mimetype": "text/x-python",
   "name": "python",
   "nbconvert_exporter": "python",
   "pygments_lexer": "ipython3",
   "version": "3.10.13"
  }
 },
 "nbformat": 4,
 "nbformat_minor": 2
}
